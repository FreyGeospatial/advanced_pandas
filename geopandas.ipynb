{
 "cells": [
  {
   "cell_type": "markdown",
   "metadata": {},
   "source": []
  },
  {
   "cell_type": "code",
   "execution_count": null,
   "metadata": {},
   "outputs": [],
   "source": [
    "import pandas as pd\n",
    "import geopandas"
   ]
  },
  {
   "cell_type": "code",
   "execution_count": 10,
   "metadata": {},
   "outputs": [],
   "source": [
    "peaks = pd.DataFrame({\n",
    "    \"Peak Name\": [\"Green Mtn.\", \"So. Boulder Peak\", \"Bear Peak\", \"Flagstaff Mtn.\", \"Mt. Sanitas\"],\n",
    "    \"Latitude\": [39.9821, 39.9539, 39.9603, 40.0017, 40.0360968],\n",
    "    \"Longitude\": [-105.3016, -105.2992, -105.2952, -105.3075, -105.3061024]\n",
    "})"
   ]
  },
  {
   "cell_type": "code",
   "execution_count": 11,
   "metadata": {},
   "outputs": [
    {
     "data": {
      "text/html": [
       "<div>\n",
       "<style scoped>\n",
       "    .dataframe tbody tr th:only-of-type {\n",
       "        vertical-align: middle;\n",
       "    }\n",
       "\n",
       "    .dataframe tbody tr th {\n",
       "        vertical-align: top;\n",
       "    }\n",
       "\n",
       "    .dataframe thead th {\n",
       "        text-align: right;\n",
       "    }\n",
       "</style>\n",
       "<table border=\"1\" class=\"dataframe\">\n",
       "  <thead>\n",
       "    <tr style=\"text-align: right;\">\n",
       "      <th></th>\n",
       "      <th>Peak Name</th>\n",
       "      <th>Latitude</th>\n",
       "      <th>Longitude</th>\n",
       "      <th>geometry</th>\n",
       "    </tr>\n",
       "  </thead>\n",
       "  <tbody>\n",
       "    <tr>\n",
       "      <th>0</th>\n",
       "      <td>Green Mtn.</td>\n",
       "      <td>39.982100</td>\n",
       "      <td>-105.301600</td>\n",
       "      <td>POINT (-105.3016 39.9821)</td>\n",
       "    </tr>\n",
       "    <tr>\n",
       "      <th>1</th>\n",
       "      <td>So. Boulder Peak</td>\n",
       "      <td>39.953900</td>\n",
       "      <td>-105.299200</td>\n",
       "      <td>POINT (-105.2992 39.9539)</td>\n",
       "    </tr>\n",
       "    <tr>\n",
       "      <th>2</th>\n",
       "      <td>Bear Peak</td>\n",
       "      <td>39.960300</td>\n",
       "      <td>-105.295200</td>\n",
       "      <td>POINT (-105.2952 39.9603)</td>\n",
       "    </tr>\n",
       "    <tr>\n",
       "      <th>3</th>\n",
       "      <td>Flagstaff Mtn.</td>\n",
       "      <td>40.001700</td>\n",
       "      <td>-105.307500</td>\n",
       "      <td>POINT (-105.3075 40.0017)</td>\n",
       "    </tr>\n",
       "    <tr>\n",
       "      <th>4</th>\n",
       "      <td>Mt. Sanitas</td>\n",
       "      <td>40.036097</td>\n",
       "      <td>-105.306102</td>\n",
       "      <td>POINT (-105.3061 40.0361)</td>\n",
       "    </tr>\n",
       "  </tbody>\n",
       "</table>\n",
       "</div>"
      ],
      "text/plain": [
       "          Peak Name   Latitude   Longitude                   geometry\n",
       "0        Green Mtn.  39.982100 -105.301600  POINT (-105.3016 39.9821)\n",
       "1  So. Boulder Peak  39.953900 -105.299200  POINT (-105.2992 39.9539)\n",
       "2         Bear Peak  39.960300 -105.295200  POINT (-105.2952 39.9603)\n",
       "3    Flagstaff Mtn.  40.001700 -105.307500  POINT (-105.3075 40.0017)\n",
       "4       Mt. Sanitas  40.036097 -105.306102  POINT (-105.3061 40.0361)"
      ]
     },
     "execution_count": 11,
     "metadata": {},
     "output_type": "execute_result"
    }
   ],
   "source": [
    "gdf = geopandas.GeoDataFrame(peaks, geometry=geopandas.points_from_xy(peaks.Longitude, peaks.Latitude))\n",
    "gdf"
   ]
  },
  {
   "cell_type": "code",
   "execution_count": null,
   "metadata": {},
   "outputs": [],
   "source": [
    "import plotly.express as px\n",
    "px.set_mapbox_access_token(\"<insert token here>\")\n",
    "gdf[\"size\"] = 65\n",
    "\n",
    "fix = px.scatter_mapbox(gdf, lat=gdf.geometry.y, lon=gdf.geometry.x, color=\"Peak Name\", hover_name=\"Peak Name\", mapbox_style=\"outdoors\", size=\"size\", zoom=10)"
   ]
  }
 ],
 "metadata": {
  "kernelspec": {
   "display_name": "Python 3",
   "language": "python",
   "name": "python3"
  },
  "language_info": {
   "codemirror_mode": {
    "name": "ipython",
    "version": 3
   },
   "file_extension": ".py",
   "mimetype": "text/x-python",
   "name": "python",
   "nbconvert_exporter": "python",
   "pygments_lexer": "ipython3",
   "version": "3.12.0"
  }
 },
 "nbformat": 4,
 "nbformat_minor": 2
}
